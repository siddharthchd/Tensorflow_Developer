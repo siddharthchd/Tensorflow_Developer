{
 "cells": [
  {
   "cell_type": "code",
   "execution_count": 25,
   "metadata": {
    "colab": {},
    "colab_type": "code",
    "id": "wYtuKeK0dImp"
   },
   "outputs": [],
   "source": [
    "# ATTENTION: Please do not alter any of the provided code in the exercise. Only add your own code where indicated\n",
    "# ATTENTION: Please do not add or remove any cells in the exercise. The grader will check specific cells based on the cell position.\n",
    "# ATTENTION: Please use the provided epoch values when training.\n",
    "\n",
    "import csv\n",
    "import numpy as np\n",
    "import tensorflow as tf\n",
    "from tensorflow.keras.preprocessing.image import ImageDataGenerator\n",
    "from os import getcwd"
   ]
  },
  {
   "cell_type": "code",
   "execution_count": 26,
   "metadata": {
    "colab": {},
    "colab_type": "code",
    "id": "4kxw-_rmcnVu"
   },
   "outputs": [
    {
     "name": "stdout",
     "output_type": "stream",
     "text": [
      "(27455, 28, 28)\n",
      "(27455,)\n",
      "(7172, 28, 28)\n",
      "(7172,)\n"
     ]
    }
   ],
   "source": [
    "def get_data(filename):\n",
    "  # You will need to write code that will read the file passed\n",
    "  # into this function. The first line contains the column headers\n",
    "  # so you should ignore it\n",
    "  # Each successive line contians 785 comma separated values between 0 and 255\n",
    "  # The first value is the label\n",
    "  # The rest are the pixel values for that picture\n",
    "  # The function will return 2 np.array types. One with all the labels\n",
    "  # One with all the images\n",
    "  #\n",
    "  # Tips: \n",
    "  # If you read a full line (as 'row') then row[0] has the label\n",
    "  # and row[1:785] has the 784 pixel values\n",
    "  # Take a look at np.array_split to turn the 784 pixels into 28x28\n",
    "  # You are reading in strings, but need the values to be floats\n",
    "  # Check out np.array().astype for a conversion\n",
    "    with open(filename) as training_file:\n",
    "      # Your code starts here\n",
    "        lines = training_file.readlines()[1:] \n",
    "        length = len(lines)\n",
    "        labels = np.zeros(length)\n",
    "        images = np.zeros((length, 28, 28))\n",
    "        \n",
    "        for idx, line in enumerate(lines):\n",
    "        \n",
    "            line = line.strip().split(',')\n",
    "            if not line:\n",
    "                continue\n",
    "            \n",
    "            labels[idx] = int(line[0])\n",
    "            image = np.asarray(line[1:], dtype=np.float32)\n",
    "            image = np.array_split(image, 28)\n",
    "            images[idx, :, :] = image\n",
    "        \n",
    "      # Your code ends here\n",
    "    return images, labels\n",
    "\n",
    "path_sign_mnist_train = f\"{getcwd()}/../tmp2/sign_mnist_train.csv\"\n",
    "path_sign_mnist_test = f\"{getcwd()}/../tmp2/sign_mnist_test.csv\"\n",
    "training_images, training_labels = get_data(path_sign_mnist_train)\n",
    "testing_images, testing_labels = get_data(path_sign_mnist_test)\n",
    "\n",
    "# Keep these\n",
    "print(training_images.shape)\n",
    "print(training_labels.shape)\n",
    "print(testing_images.shape)\n",
    "print(testing_labels.shape)\n",
    "\n",
    "# Their output should be:\n",
    "# (27455, 28, 28)\n",
    "# (27455,)\n",
    "# (7172, 28, 28)\n",
    "# (7172,)"
   ]
  },
  {
   "cell_type": "code",
   "execution_count": 27,
   "metadata": {
    "colab": {},
    "colab_type": "code",
    "id": "awoqRpyZdQkD"
   },
   "outputs": [
    {
     "name": "stdout",
     "output_type": "stream",
     "text": [
      "(27455, 28, 28, 1)\n",
      "(7172, 28, 28, 1)\n"
     ]
    }
   ],
   "source": [
    "# In this section you will have to add another dimension to the data\n",
    "# So, for example, if your array is (10000, 28, 28)\n",
    "# You will need to make it (10000, 28, 28, 1)\n",
    "# Hint: np.expand_dims\n",
    "\n",
    "training_images = np.expand_dims(training_images, axis = 3)\n",
    "testing_images = np.expand_dims(testing_images, axis = 3)\n",
    "\n",
    "# Create an ImageDataGenerator and do Image Augmentation\n",
    "train_datagen = ImageDataGenerator(\n",
    "    rescale = 1./255.,\n",
    "    rotation_range = 40,\n",
    "    width_shift_range = 0.2,\n",
    "    height_shift_range = 0.2, \n",
    "    shear_range = 0.2, \n",
    "    zoom_range = 0.2, \n",
    "    fill_mode = 'nearest',\n",
    "    horizontal_flip = True\n",
    "    )\n",
    "\n",
    "validation_datagen = ImageDataGenerator(\n",
    "    rescale = 1./255.\n",
    ")\n",
    "    \n",
    "# Keep These\n",
    "print(training_images.shape)\n",
    "print(testing_images.shape)\n",
    "    \n",
    "# Their output should be:\n",
    "# (27455, 28, 28, 1)\n",
    "# (7172, 28, 28, 1)"
   ]
  },
  {
   "cell_type": "code",
   "execution_count": 32,
   "metadata": {
    "colab": {},
    "colab_type": "code",
    "id": "Rmb7S32cgRqS"
   },
   "outputs": [
    {
     "name": "stdout",
     "output_type": "stream",
     "text": [
      "Epoch 1/20\n",
      "858/858 [==============================] - 66s 77ms/step - loss: 2.5294 - accuracy: 0.2276 - val_loss: 1.5163 - val_accuracy: 0.4994\n",
      "Epoch 2/20\n",
      "858/858 [==============================] - 62s 72ms/step - loss: 1.5666 - accuracy: 0.4992 - val_loss: 0.7414 - val_accuracy: 0.7280\n",
      "Epoch 3/20\n",
      "858/858 [==============================] - 60s 70ms/step - loss: 1.0988 - accuracy: 0.6376 - val_loss: 0.5610 - val_accuracy: 0.8095\n",
      "Epoch 4/20\n",
      "858/858 [==============================] - 62s 72ms/step - loss: 0.8545 - accuracy: 0.7164 - val_loss: 0.3523 - val_accuracy: 0.8670\n",
      "Epoch 5/20\n",
      "858/858 [==============================] - 60s 70ms/step - loss: 0.7027 - accuracy: 0.7676 - val_loss: 0.2689 - val_accuracy: 0.9009\n",
      "Epoch 6/20\n",
      "858/858 [==============================] - 61s 71ms/step - loss: 0.5912 - accuracy: 0.8028 - val_loss: 0.2049 - val_accuracy: 0.9387\n",
      "Epoch 7/20\n",
      "858/858 [==============================] - 58s 67ms/step - loss: 0.5331 - accuracy: 0.8251 - val_loss: 0.1385 - val_accuracy: 0.9530\n",
      "Epoch 8/20\n",
      "858/858 [==============================] - 59s 69ms/step - loss: 0.4741 - accuracy: 0.8435 - val_loss: 0.1050 - val_accuracy: 0.9675\n",
      "Epoch 9/20\n",
      "858/858 [==============================] - 58s 68ms/step - loss: 0.4395 - accuracy: 0.8574 - val_loss: 0.1390 - val_accuracy: 0.9519\n",
      "Epoch 10/20\n",
      "858/858 [==============================] - 58s 68ms/step - loss: 0.4038 - accuracy: 0.8687 - val_loss: 0.1998 - val_accuracy: 0.9324\n",
      "Epoch 11/20\n",
      "858/858 [==============================] - 59s 69ms/step - loss: 0.3786 - accuracy: 0.8765 - val_loss: 0.1005 - val_accuracy: 0.9679\n",
      "Epoch 12/20\n",
      "858/858 [==============================] - 58s 68ms/step - loss: 0.3816 - accuracy: 0.8782 - val_loss: 0.0640 - val_accuracy: 0.9756\n",
      "Epoch 13/20\n",
      "858/858 [==============================] - 61s 71ms/step - loss: 0.3571 - accuracy: 0.8850 - val_loss: 0.0770 - val_accuracy: 0.9763\n",
      "Epoch 14/20\n",
      "858/858 [==============================] - 60s 70ms/step - loss: 0.3437 - accuracy: 0.8901 - val_loss: 0.1402 - val_accuracy: 0.9522\n",
      "Epoch 15/20\n",
      "858/858 [==============================] - 63s 73ms/step - loss: 0.3339 - accuracy: 0.8956 - val_loss: 0.0784 - val_accuracy: 0.9759\n",
      "Epoch 16/20\n",
      "858/858 [==============================] - 60s 70ms/step - loss: 0.3202 - accuracy: 0.8996 - val_loss: 0.1092 - val_accuracy: 0.9610\n",
      "Epoch 17/20\n",
      "858/858 [==============================] - 61s 71ms/step - loss: 0.3100 - accuracy: 0.9008 - val_loss: 0.0725 - val_accuracy: 0.9734\n",
      "Epoch 18/20\n",
      "858/858 [==============================] - 57s 66ms/step - loss: 0.3140 - accuracy: 0.9022 - val_loss: 0.0952 - val_accuracy: 0.9735\n",
      "Epoch 19/20\n",
      "858/858 [==============================] - 56s 66ms/step - loss: 0.3039 - accuracy: 0.9062 - val_loss: 0.0833 - val_accuracy: 0.9639\n",
      "Epoch 20/20\n",
      "858/858 [==============================] - 58s 67ms/step - loss: 0.3012 - accuracy: 0.9062 - val_loss: 0.0851 - val_accuracy: 0.9679\n"
     ]
    },
    {
     "data": {
      "text/plain": [
       "[185.65742827126653, 0.7750976]"
      ]
     },
     "execution_count": 32,
     "metadata": {},
     "output_type": "execute_result"
    }
   ],
   "source": [
    "# Define the model\n",
    "# Use no more than 2 Conv2D and 2 MaxPooling2D\n",
    "from tensorflow.keras.optimizers import RMSprop\n",
    "\n",
    "model = tf.keras.models.Sequential([\n",
    "    tf.keras.layers.Conv2D(128, (3, 3), activation = 'relu', input_shape = (28, 28, 1)),\n",
    "    tf.keras.layers.MaxPooling2D(2, 2),\n",
    "    tf.keras.layers.Conv2D(128, (3, 3), activation = 'relu'),\n",
    "    tf.keras.layers.MaxPooling2D(2, 2),\n",
    "    tf.keras.layers.Flatten(),\n",
    "    tf.keras.layers.Dense(512, activation = 'relu'),\n",
    "    tf.keras.layers.Dense(25, activation = 'softmax')\n",
    "])\n",
    "\n",
    "# Compile Model. \n",
    "model.compile(optimizer = RMSprop(lr = 0.001),\n",
    "              loss = 'sparse_categorical_crossentropy',\n",
    "              metrics = ['accuracy'])\n",
    "\n",
    "# Train the Model\n",
    "train_generator = train_datagen.flow(training_images, training_labels)\n",
    "validation_generator = validation_datagen.flow(testing_images, testing_labels)\n",
    "\n",
    "history = model.fit_generator(train_generator, epochs = 20, verbose = 1, validation_data = validation_generator)\n",
    "\n",
    "model.evaluate(testing_images, testing_labels, verbose=0)"
   ]
  },
  {
   "cell_type": "code",
   "execution_count": 33,
   "metadata": {
    "colab": {},
    "colab_type": "code",
    "id": "_Q3Zpr46dsij"
   },
   "outputs": [
    {
     "data": {
      "image/png": "[encoded data removed]",
      "text/plain": [
       "<Figure size 432x288 with 1 Axes>"
      ]
     },
     "metadata": {
      "needs_background": "light"
     },
     "output_type": "display_data"
    },
    {
     "data": {
      "image/png": "[encoded data removed]",
      "text/plain": [
       "<Figure size 432x288 with 1 Axes>"
      ]
     },
     "metadata": {
      "needs_background": "light"
     },
     "output_type": "display_data"
    }
   ],
   "source": [
    "# Plot the chart for accuracy and loss on both training and validation\n",
    "%matplotlib inline\n",
    "import matplotlib.pyplot as plt\n",
    "acc = history.history['accuracy']\n",
    "val_acc = history.history['val_accuracy']\n",
    "loss = history.history['loss']\n",
    "val_loss = history.history['val_loss']\n",
    "\n",
    "epochs = range(len(acc))\n",
    "\n",
    "plt.plot(epochs, acc, 'r', label='Training accuracy')\n",
    "plt.plot(epochs, val_acc, 'b', label='Validation accuracy')\n",
    "plt.title('Training and validation accuracy')\n",
    "plt.legend()\n",
    "plt.figure()\n",
    "\n",
    "plt.plot(epochs, loss, 'r', label='Training Loss')\n",
    "plt.plot(epochs, val_loss, 'b', label='Validation Loss')\n",
    "plt.title('Training and validation loss')\n",
    "plt.legend()\n",
    "\n",
    "plt.show()"
   ]
  },
  {
   "cell_type": "markdown",
   "metadata": {},
   "source": [
    "# Submission Instructions"
   ]
  },
  {
   "cell_type": "code",
   "execution_count": 34,
   "metadata": {},
   "outputs": [],
   "source": [
    "# Now click the 'Submit Assignment' button above."
   ]
  },
  {
   "cell_type": "markdown",
   "metadata": {},
   "source": [
    "# When you're done or would like to take a break, please run the two cells below to save your work and close the Notebook. This will free up resources for your fellow learners. "
   ]
  },
  {
   "cell_type": "code",
   "execution_count": 35,
   "metadata": {},
   "outputs": [
    {
     "data": {
      "application/javascript": [
       "<!-- Save the notebook -->\n",
       "IPython.notebook.save_checkpoint();\n"
      ],
      "text/plain": [
       "<IPython.core.display.Javascript object>"
      ]
     },
     "metadata": {},
     "output_type": "display_data"
    }
   ],
   "source": [
    "%%javascript\n",
    "<!-- Save the notebook -->\n",
    "IPython.notebook.save_checkpoint();"
   ]
  },
  {
   "cell_type": "code",
   "execution_count": null,
   "metadata": {},
   "outputs": [
    {
     "data": {
      "application/javascript": [
       "IPython.notebook.session.delete();\n",
       "window.onbeforeunload = null\n",
       "setTimeout(function() { window.close(); }, 1000);\n"
      ],
      "text/plain": [
       "<IPython.core.display.Javascript object>"
      ]
     },
     "metadata": {},
     "output_type": "display_data"
    }
   ],
   "source": [
    "%%javascript\n",
    "IPython.notebook.session.delete();\n",
    "window.onbeforeunload = null\n",
    "setTimeout(function() { window.close(); }, 1000);"
   ]
  },
  {
   "cell_type": "code",
   "execution_count": null,
   "metadata": {},
   "outputs": [],
   "source": []
  }
 ],
 "metadata": {
  "colab": {
   "name": "Exercise 8 - Question.ipynb",
   "provenance": []
  },
  "coursera": {
   "course_slug": "convolutional-neural-networks-tensorflow",
   "graded_item_id": "8mIh8",
   "launcher_item_id": "gg95t"
  },
  "kernelspec": {
   "display_name": "Python 3",
   "language": "python",
   "name": "python3"
  },
  "language_info": {
   "codemirror_mode": {
    "name": "ipython",
    "version": 3
   },
   "file_extension": ".py",
   "mimetype": "text/x-python",
   "name": "python",
   "nbconvert_exporter": "python",
   "pygments_lexer": "ipython3",
   "version": "3.6.8"
  }
 },
 "nbformat": 4,
 "nbformat_minor": 1
}
