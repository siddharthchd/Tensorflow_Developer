{
  "nbformat": 4,
  "nbformat_minor": 0,
  "metadata": {
    "colab": {
      "name": "bbc_news_archive.ipynb",
      "provenance": [],
      "authorship_tag": "ABX9TyO7QZNgj9zL6jViW2GlX4rm",
      "include_colab_link": true
    },
    "kernelspec": {
      "name": "python3",
      "display_name": "Python 3"
    }
  },
  "cells": [
    {
      "cell_type": "markdown",
      "metadata": {
        "id": "view-in-github",
        "colab_type": "text"
      },
      "source": [
        "<a href=\"https://colab.research.google.com/github/siddharthchd/Tensorflow_Developer/blob/main/Natural_Language_Processing/bbc_news_archive.ipynb\" target=\"_parent\"><img src=\"https://colab.research.google.com/assets/colab-badge.svg\" alt=\"Open In Colab\"/></a>"
      ]
    },
    {
      "cell_type": "code",
      "metadata": {
        "colab": {
          "base_uri": "https://localhost:8080/"
        },
        "id": "s7xSjo7p294N",
        "outputId": "ac3dc450-6c05-4a40-ff99-3028689dfa5a"
      },
      "source": [
        "import csv\r\n",
        "import tensorflow as tf\r\n",
        "import numpy as np\r\n",
        "from tensorflow.keras.preprocessing.text import Tokenizer\r\n",
        "from tensorflow.keras.preprocessing.sequence import pad_sequences\r\n",
        "\r\n",
        "!wget --no-check-certificate \\\r\n",
        "    https://storage.googleapis.com/laurencemoroney-blog.appspot.com/bbc-text.csv \\\r\n",
        "    -O /tmp/bbc-text.csv"
      ],
      "execution_count": 97,
      "outputs": [
        {
          "output_type": "stream",
          "text": [
            "--2021-01-16 02:25:59--  https://storage.googleapis.com/laurencemoroney-blog.appspot.com/bbc-text.csv\n",
            "Resolving storage.googleapis.com (storage.googleapis.com)... 74.125.20.128, 74.125.195.128, 74.125.142.128, ...\n",
            "Connecting to storage.googleapis.com (storage.googleapis.com)|74.125.20.128|:443... connected.\n",
            "HTTP request sent, awaiting response... 200 OK\n",
            "Length: 5057493 (4.8M) [application/octet-stream]\n",
            "Saving to: ‘/tmp/bbc-text.csv’\n",
            "\n",
            "\r/tmp/bbc-text.csv     0%[                    ]       0  --.-KB/s               \r/tmp/bbc-text.csv   100%[===================>]   4.82M  --.-KB/s    in 0.02s   \n",
            "\n",
            "2021-01-16 02:25:59 (196 MB/s) - ‘/tmp/bbc-text.csv’ saved [5057493/5057493]\n",
            "\n"
          ],
          "name": "stdout"
        }
      ]
    },
    {
      "cell_type": "code",
      "metadata": {
        "id": "k7Sr4AWQ3SVD"
      },
      "source": [
        "vocab_size = 1000\r\n",
        "embedding_dim = 16\r\n",
        "max_length = 120\r\n",
        "trunc_type = 'post'\r\n",
        "padding_type = 'post'\r\n",
        "oov_tok = '<OOV>'\r\n",
        "training_portion = .8"
      ],
      "execution_count": 98,
      "outputs": []
    },
    {
      "cell_type": "code",
      "metadata": {
        "colab": {
          "base_uri": "https://localhost:8080/"
        },
        "id": "PKkwwwj_3zKe",
        "outputId": "60e9a41f-5d2b-458c-c2d9-2b1ef5a671ae"
      },
      "source": [
        "sentences = []\r\n",
        "labels = []\r\n",
        "stopwords = [ \"a\", \"about\", \"above\", \"after\", \"again\", \"against\", \"all\", \"am\", \"an\", \"and\", \"any\", \"are\", \"as\", \"at\", \"be\", \"because\", \"been\", \"before\", \"being\", \"below\", \"between\", \"both\", \"but\", \"by\", \"could\", \"did\", \"do\", \"does\", \"doing\", \"down\", \"during\", \"each\", \"few\", \"for\", \"from\", \"further\", \"had\", \"has\", \"have\", \"having\", \"he\", \"he'd\", \"he'll\", \"he's\", \"her\", \"here\", \"here's\", \"hers\", \"herself\", \"him\", \"himself\", \"his\", \"how\", \"how's\", \"i\", \"i'd\", \"i'll\", \"i'm\", \"i've\", \"if\", \"in\", \"into\", \"is\", \"it\", \"it's\", \"its\", \"itself\", \"let's\", \"me\", \"more\", \"most\", \"my\", \"myself\", \"nor\", \"of\", \"on\", \"once\", \"only\", \"or\", \"other\", \"ought\", \"our\", \"ours\", \"ourselves\", \"out\", \"over\", \"own\", \"same\", \"she\", \"she'd\", \"she'll\", \"she's\", \"should\", \"so\", \"some\", \"such\", \"than\", \"that\", \"that's\", \"the\", \"their\", \"theirs\", \"them\", \"themselves\", \"then\", \"there\", \"there's\", \"these\", \"they\", \"they'd\", \"they'll\", \"they're\", \"they've\", \"this\", \"those\", \"through\", \"to\", \"too\", \"under\", \"until\", \"up\", \"very\", \"was\", \"we\", \"we'd\", \"we'll\", \"we're\", \"we've\", \"were\", \"what\", \"what's\", \"when\", \"when's\", \"where\", \"where's\", \"which\", \"while\", \"who\", \"who's\", \"whom\", \"why\", \"why's\", \"with\", \"would\", \"you\", \"you'd\", \"you'll\", \"you're\", \"you've\", \"your\", \"yours\", \"yourself\", \"yourselves\" ]\r\n",
        "print(len(stopwords))"
      ],
      "execution_count": 99,
      "outputs": [
        {
          "output_type": "stream",
          "text": [
            "153\n"
          ],
          "name": "stdout"
        }
      ]
    },
    {
      "cell_type": "code",
      "metadata": {
        "colab": {
          "base_uri": "https://localhost:8080/"
        },
        "id": "-D6gDAK537T1",
        "outputId": "1afa4709-f262-4094-a51c-80277e4ce399"
      },
      "source": [
        "with open('/tmp/bbc-text.csv', 'r') as csvfile:\r\n",
        "  reader = csv.reader(csvfile, delimiter = ',')\r\n",
        "  next(reader)\r\n",
        "  for row in reader:\r\n",
        "    labels.append(row[0])\r\n",
        "    sentence = row[1]\r\n",
        "    for word in stopwords:\r\n",
        "      token = ' ' + word  + ' '\r\n",
        "      sentence = sentence.replace(token, ' ')\r\n",
        "    sentences.append(sentence)\r\n",
        "\r\n",
        "print(labels[2], ' : ', sentences[2])"
      ],
      "execution_count": 100,
      "outputs": [
        {
          "output_type": "stream",
          "text": [
            "sport  :  tigers wary farrell  gamble  leicester say will not rushed making bid andy farrell great britain rugby league captain decide switch codes.   anybody else involved process still way away going next stage   tigers boss john wells told bbc radio leicester.  moment  still lot unknowns andy farrell  not least medical situation.  whoever take going take big  big gamble.  farrell  persistent knee problems  operation knee five weeks ago expected another three months. leicester saracens believed head list rugby union clubs interested signing farrell decides move 15-man game.  move across union  wells believes better off playing backs  least initially.  m sure make step league union involved centre   said wells.  think england prefer progress position back row can make use rugby league skills within forwards.  jury whether can cross divide.  club  balance will struck cost gamble option bringing ready-made replacement.\n"
          ],
          "name": "stdout"
        }
      ]
    },
    {
      "cell_type": "code",
      "metadata": {
        "colab": {
          "base_uri": "https://localhost:8080/"
        },
        "id": "9k5gxTXF4kMo",
        "outputId": "4a195560-a23f-468a-a7f7-3aa5622a5da4"
      },
      "source": [
        "#labels.pop(0)\r\n",
        "#sentences.pop(0)\r\n",
        "print(len(labels))\r\n",
        "print(len(sentences))\r\n",
        "print(sentences[0])"
      ],
      "execution_count": 101,
      "outputs": [
        {
          "output_type": "stream",
          "text": [
            "2225\n",
            "2225\n",
            "tv future hands viewers home theatre systems  plasma high-definition tvs  digital video recorders moving living room  way people watch tv will radically different five years  time.  according expert panel gathered annual consumer electronics show las vegas discuss new technologies will impact one favourite pastimes. us leading trend  programmes content will delivered viewers via home networks  cable  satellite  telecoms companies  broadband service providers front rooms portable devices.  one talked-about technologies ces digital personal video recorders (dvr pvr). set-top boxes  like us s tivo uk s sky+ system  allow people record  store  play  pause forward wind tv programmes want.  essentially  technology allows much personalised tv. also built-in high-definition tv sets  big business japan us  slower take off europe lack high-definition programming. not can people forward wind adverts  can also forget abiding network channel schedules  putting together a-la-carte entertainment. us networks cable satellite companies worried means terms advertising revenues well  brand identity  viewer loyalty channels. although us leads technology moment  also concern raised europe  particularly growing uptake services like sky+.  happens today  will see nine months years  time uk   adam hume  bbc broadcast s futurologist told bbc news website. likes bbc  no issues lost advertising revenue yet. pressing issue moment commercial uk broadcasters  brand loyalty important everyone.  will talking content brands rather network brands   said tim hanlon  brand communications firm starcom mediavest.  reality broadband connections  anybody can producer content.  added:  challenge now hard promote programme much choice.   means  said stacey jolna  senior vice president tv guide tv group  way people find content want watch simplified tv viewers. means networks  us terms  channels take leaf google s book search engine future  instead scheduler help people find want watch. kind channel model might work younger ipod generation used taking control gadgets play them. might not suit everyone  panel recognised. older generations comfortable familiar schedules channel brands know getting. perhaps not want much choice put hands  mr hanlon suggested.  end  kids just diapers pushing buttons already - everything possible available   said mr hanlon.  ultimately  consumer will tell market want.   50 000 new gadgets technologies showcased ces  many enhancing tv-watching experience. high-definition tv sets everywhere many new models lcd (liquid crystal display) tvs launched dvr capability built  instead external boxes. one example launched show humax s 26-inch lcd tv 80-hour tivo dvr dvd recorder. one us s biggest satellite tv companies  directtv  even launched branded dvr show 100-hours recording capability  instant replay  search function. set can pause rewind tv 90 hours. microsoft chief bill gates announced pre-show keynote speech partnership tivo  called tivotogo  means people can play recorded programmes windows pcs mobile devices. reflect increasing trend freeing multimedia people can watch want  want.\n"
          ],
          "name": "stdout"
        }
      ]
    },
    {
      "cell_type": "code",
      "metadata": {
        "colab": {
          "base_uri": "https://localhost:8080/"
        },
        "id": "WvYqPHRW5OAG",
        "outputId": "ca4b63f5-a995-486a-ae13-1ea58f380b7b"
      },
      "source": [
        "train_size = int(len(labels) * training_portion)\r\n",
        "\r\n",
        "train_sentences = sentences[0 : train_size]\r\n",
        "train_labels = labels[0 : train_size]\r\n",
        "\r\n",
        "validation_sentences = sentences[train_size :]\r\n",
        "validation_labels = labels[train_size :]\r\n",
        "\r\n",
        "print(train_size)\r\n",
        "print(len(train_sentences))\r\n",
        "print(len(train_labels))\r\n",
        "print(len(validation_sentences))\r\n",
        "print(len(validation_labels))"
      ],
      "execution_count": 102,
      "outputs": [
        {
          "output_type": "stream",
          "text": [
            "1780\n",
            "1780\n",
            "1780\n",
            "445\n",
            "445\n"
          ],
          "name": "stdout"
        }
      ]
    },
    {
      "cell_type": "code",
      "metadata": {
        "colab": {
          "base_uri": "https://localhost:8080/"
        },
        "id": "nwrOXI0Z7REB",
        "outputId": "ad4475a1-0fac-4ed4-fc6e-11d850f5419b"
      },
      "source": [
        "tokenizer = Tokenizer(num_words = vocab_size, oov_token = oov_tok)\r\n",
        "tokenizer.fit_on_texts(train_sentences)\r\n",
        "\r\n",
        "word_index = tokenizer.word_index\r\n",
        "\r\n",
        "train_sequences = tokenizer.texts_to_sequences(train_sentences)\r\n",
        "train_padded = pad_sequences(train_sequences, maxlen = max_length, padding = padding_type, truncating = trunc_type)\r\n",
        "\r\n",
        "train_padded = np.array(train_padded)\r\n",
        "train_labels = np.array(train_labels)\r\n",
        "\r\n",
        "print(len(train_sequences[0]))\r\n",
        "print(len(train_padded[0]))\r\n",
        "print(len(train_sequences[1]))\r\n",
        "print(len(train_padded[1]))\r\n",
        "print(len(train_sequences[10]))\r\n",
        "print(len(train_padded[10]))"
      ],
      "execution_count": 103,
      "outputs": [
        {
          "output_type": "stream",
          "text": [
            "449\n",
            "120\n",
            "200\n",
            "120\n",
            "192\n",
            "120\n"
          ],
          "name": "stdout"
        }
      ]
    },
    {
      "cell_type": "code",
      "metadata": {
        "colab": {
          "base_uri": "https://localhost:8080/"
        },
        "id": "kHdthpVV8W1d",
        "outputId": "a8c8c22a-1798-4855-d848-4358b21c9b74"
      },
      "source": [
        "validation_sequences = tokenizer.texts_to_sequences(validation_sentences)\r\n",
        "validation_padded = pad_sequences(validation_sequences, maxlen = max_length, padding = padding_type, truncating = trunc_type)\r\n",
        "\r\n",
        "print(len(validation_sequences))\r\n",
        "print(validation_padded.shape)"
      ],
      "execution_count": 104,
      "outputs": [
        {
          "output_type": "stream",
          "text": [
            "445\n",
            "(445, 120)\n"
          ],
          "name": "stdout"
        }
      ]
    },
    {
      "cell_type": "code",
      "metadata": {
        "colab": {
          "base_uri": "https://localhost:8080/"
        },
        "id": "Hg5feEZH9AHw",
        "outputId": "63e0f471-2045-446b-ce1e-810bc595ff06"
      },
      "source": [
        "label_tokenizer = Tokenizer()\r\n",
        "label_tokenizer.fit_on_texts(labels)\r\n",
        "\r\n",
        "training_label_seq = np.array(label_tokenizer.texts_to_sequences(train_labels))\r\n",
        "validation_label_seq = np.array(label_tokenizer.texts_to_sequences(validation_labels))\r\n",
        "\r\n",
        "print(training_label_seq[0])\r\n",
        "print(training_label_seq[1])\r\n",
        "print(training_label_seq[2])\r\n",
        "print(training_label_seq.shape)\r\n",
        "\r\n",
        "print(validation_label_seq[0])\r\n",
        "print(validation_label_seq[1])\r\n",
        "print(validation_label_seq[2])\r\n",
        "print(validation_label_seq.shape)"
      ],
      "execution_count": 105,
      "outputs": [
        {
          "output_type": "stream",
          "text": [
            "[4]\n",
            "[2]\n",
            "[1]\n",
            "(1780, 1)\n",
            "[5]\n",
            "[4]\n",
            "[3]\n",
            "(445, 1)\n"
          ],
          "name": "stdout"
        }
      ]
    },
    {
      "cell_type": "code",
      "metadata": {
        "colab": {
          "base_uri": "https://localhost:8080/"
        },
        "id": "iekSkYoA9zLR",
        "outputId": "51caddbc-e72c-46f1-8d55-925a9edcd987"
      },
      "source": [
        "model = tf.keras.Sequential([\r\n",
        "                             tf.keras.layers.Embedding(vocab_size, embedding_dim, input_length = max_length),\r\n",
        "                             tf.keras.layers.GlobalAveragePooling1D(),\r\n",
        "                             tf.keras.layers.Dense(24, activation = 'relu'),\r\n",
        "                             tf.keras.layers.Dense(6, activation = 'softmax')\r\n",
        "])\r\n",
        "model.compile(loss = 'sparse_categorical_crossentropy', optimizer = 'adam', metrics = ['accuracy'])\r\n",
        "model.summary()"
      ],
      "execution_count": 108,
      "outputs": [
        {
          "output_type": "stream",
          "text": [
            "Model: \"sequential_6\"\n",
            "_________________________________________________________________\n",
            "Layer (type)                 Output Shape              Param #   \n",
            "=================================================================\n",
            "embedding_7 (Embedding)      (None, 120, 16)           16000     \n",
            "_________________________________________________________________\n",
            "global_average_pooling1d_7 ( (None, 16)                0         \n",
            "_________________________________________________________________\n",
            "dense_13 (Dense)             (None, 24)                408       \n",
            "_________________________________________________________________\n",
            "dense_14 (Dense)             (None, 6)                 150       \n",
            "=================================================================\n",
            "Total params: 16,558\n",
            "Trainable params: 16,558\n",
            "Non-trainable params: 0\n",
            "_________________________________________________________________\n"
          ],
          "name": "stdout"
        }
      ]
    },
    {
      "cell_type": "code",
      "metadata": {
        "colab": {
          "base_uri": "https://localhost:8080/"
        },
        "id": "oCvrVCfp-woA",
        "outputId": "01185599-ba79-4957-9b8b-f8a74cde25bf"
      },
      "source": [
        "num_epochs = 30\r\n",
        "history = model.fit(train_padded, training_label_seq, epochs = num_epochs, validation_data = (validation_padded, validation_label_seq), verbose = 2)"
      ],
      "execution_count": 112,
      "outputs": [
        {
          "output_type": "stream",
          "text": [
            "Epoch 1/30\n",
            "56/56 - 1s - loss: 1.7629 - accuracy: 0.3949 - val_loss: 1.7249 - val_accuracy: 0.5528\n",
            "Epoch 2/30\n",
            "56/56 - 0s - loss: 1.6697 - accuracy: 0.4562 - val_loss: 1.6084 - val_accuracy: 0.4517\n",
            "Epoch 3/30\n",
            "56/56 - 0s - loss: 1.5238 - accuracy: 0.4449 - val_loss: 1.4425 - val_accuracy: 0.4562\n",
            "Epoch 4/30\n",
            "56/56 - 0s - loss: 1.3336 - accuracy: 0.5174 - val_loss: 1.2560 - val_accuracy: 0.4764\n",
            "Epoch 5/30\n",
            "56/56 - 0s - loss: 1.1487 - accuracy: 0.5197 - val_loss: 1.1041 - val_accuracy: 0.5483\n",
            "Epoch 6/30\n",
            "56/56 - 0s - loss: 0.9986 - accuracy: 0.6202 - val_loss: 0.9785 - val_accuracy: 0.6247\n",
            "Epoch 7/30\n",
            "56/56 - 0s - loss: 0.8652 - accuracy: 0.7326 - val_loss: 0.8618 - val_accuracy: 0.7663\n",
            "Epoch 8/30\n",
            "56/56 - 0s - loss: 0.7359 - accuracy: 0.8573 - val_loss: 0.7436 - val_accuracy: 0.8270\n",
            "Epoch 9/30\n",
            "56/56 - 0s - loss: 0.6113 - accuracy: 0.9073 - val_loss: 0.6358 - val_accuracy: 0.8831\n",
            "Epoch 10/30\n",
            "56/56 - 0s - loss: 0.5009 - accuracy: 0.9197 - val_loss: 0.5409 - val_accuracy: 0.8899\n",
            "Epoch 11/30\n",
            "56/56 - 0s - loss: 0.4074 - accuracy: 0.9410 - val_loss: 0.4615 - val_accuracy: 0.9034\n",
            "Epoch 12/30\n",
            "56/56 - 0s - loss: 0.3280 - accuracy: 0.9506 - val_loss: 0.4007 - val_accuracy: 0.9034\n",
            "Epoch 13/30\n",
            "56/56 - 0s - loss: 0.2687 - accuracy: 0.9590 - val_loss: 0.3583 - val_accuracy: 0.9056\n",
            "Epoch 14/30\n",
            "56/56 - 0s - loss: 0.2255 - accuracy: 0.9607 - val_loss: 0.3248 - val_accuracy: 0.9169\n",
            "Epoch 15/30\n",
            "56/56 - 0s - loss: 0.1935 - accuracy: 0.9691 - val_loss: 0.3027 - val_accuracy: 0.9213\n",
            "Epoch 16/30\n",
            "56/56 - 0s - loss: 0.1670 - accuracy: 0.9702 - val_loss: 0.2809 - val_accuracy: 0.9169\n",
            "Epoch 17/30\n",
            "56/56 - 0s - loss: 0.1467 - accuracy: 0.9758 - val_loss: 0.2660 - val_accuracy: 0.9236\n",
            "Epoch 18/30\n",
            "56/56 - 0s - loss: 0.1290 - accuracy: 0.9781 - val_loss: 0.2602 - val_accuracy: 0.9258\n",
            "Epoch 19/30\n",
            "56/56 - 0s - loss: 0.1148 - accuracy: 0.9809 - val_loss: 0.2520 - val_accuracy: 0.9258\n",
            "Epoch 20/30\n",
            "56/56 - 0s - loss: 0.1032 - accuracy: 0.9837 - val_loss: 0.2437 - val_accuracy: 0.9326\n",
            "Epoch 21/30\n",
            "56/56 - 0s - loss: 0.0917 - accuracy: 0.9854 - val_loss: 0.2368 - val_accuracy: 0.9371\n",
            "Epoch 22/30\n",
            "56/56 - 0s - loss: 0.0823 - accuracy: 0.9871 - val_loss: 0.2301 - val_accuracy: 0.9371\n",
            "Epoch 23/30\n",
            "56/56 - 0s - loss: 0.0741 - accuracy: 0.9899 - val_loss: 0.2238 - val_accuracy: 0.9393\n",
            "Epoch 24/30\n",
            "56/56 - 0s - loss: 0.0667 - accuracy: 0.9910 - val_loss: 0.2266 - val_accuracy: 0.9393\n",
            "Epoch 25/30\n",
            "56/56 - 0s - loss: 0.0597 - accuracy: 0.9933 - val_loss: 0.2277 - val_accuracy: 0.9348\n",
            "Epoch 26/30\n",
            "56/56 - 0s - loss: 0.0539 - accuracy: 0.9944 - val_loss: 0.2213 - val_accuracy: 0.9393\n",
            "Epoch 27/30\n",
            "56/56 - 0s - loss: 0.0484 - accuracy: 0.9949 - val_loss: 0.2175 - val_accuracy: 0.9416\n",
            "Epoch 28/30\n",
            "56/56 - 0s - loss: 0.0436 - accuracy: 0.9972 - val_loss: 0.2158 - val_accuracy: 0.9438\n",
            "Epoch 29/30\n",
            "56/56 - 0s - loss: 0.0389 - accuracy: 0.9989 - val_loss: 0.2207 - val_accuracy: 0.9371\n",
            "Epoch 30/30\n",
            "56/56 - 0s - loss: 0.0354 - accuracy: 0.9994 - val_loss: 0.2184 - val_accuracy: 0.9393\n"
          ],
          "name": "stdout"
        }
      ]
    },
    {
      "cell_type": "code",
      "metadata": {
        "colab": {
          "base_uri": "https://localhost:8080/",
          "height": 541
        },
        "id": "BoVepwxP_Owo",
        "outputId": "7311f2b7-0241-4ee0-cb29-54be51d6c678"
      },
      "source": [
        "import matplotlib.pyplot as plt\r\n",
        "\r\n",
        "\r\n",
        "def plot_graphs(history, string):\r\n",
        "  plt.plot(history.history[string])\r\n",
        "  plt.plot(history.history['val_'+string])\r\n",
        "  plt.xlabel(\"Epochs\")\r\n",
        "  plt.ylabel(string)\r\n",
        "  plt.legend([string, 'val_'+string])\r\n",
        "  plt.show()\r\n",
        "  \r\n",
        "plot_graphs(history, \"accuracy\")\r\n",
        "plot_graphs(history, \"loss\")"
      ],
      "execution_count": 113,
      "outputs": [
        {
          "output_type": "display_data",
          "data": {
            "image/png": "[encoded data removed]",
            "text/plain": [
              "<Figure size 432x288 with 1 Axes>"
            ]
          },
          "metadata": {
            "tags": [],
            "needs_background": "light"
          }
        },
        {
          "output_type": "display_data",
          "data": {
            "image/png": "[encoded data removed]",
            "text/plain": [
              "<Figure size 432x288 with 1 Axes>"
            ]
          },
          "metadata": {
            "tags": [],
            "needs_background": "light"
          }
        }
      ]
    },
    {
      "cell_type": "code",
      "metadata": {
        "id": "V_nCDwBpBTf1"
      },
      "source": [
        "reverse_word_index = dict([(value, key) for (key, value) in word_index.items()])\r\n",
        "\r\n",
        "def decode_sentence(text):\r\n",
        "    return ' '.join([reverse_word_index.get(i, '?') for i in text])"
      ],
      "execution_count": 114,
      "outputs": []
    },
    {
      "cell_type": "code",
      "metadata": {
        "colab": {
          "base_uri": "https://localhost:8080/"
        },
        "id": "FMmpZsHyBVA4",
        "outputId": "fca35d78-643f-4af2-ca35-826fb22a5ca3"
      },
      "source": [
        "e = model.layers[0]\r\n",
        "weights = e.get_weights()[0]\r\n",
        "print(weights.shape) # shape: (vocab_size, embedding_dim)"
      ],
      "execution_count": 115,
      "outputs": [
        {
          "output_type": "stream",
          "text": [
            "(1000, 16)\n"
          ],
          "name": "stdout"
        }
      ]
    },
    {
      "cell_type": "code",
      "metadata": {
        "id": "CHYCtul2BWuA"
      },
      "source": [
        "import io\r\n",
        "\r\n",
        "out_v = io.open('vecs.tsv', 'w', encoding='utf-8')\r\n",
        "out_m = io.open('meta.tsv', 'w', encoding='utf-8')\r\n",
        "for word_num in range(1, vocab_size):\r\n",
        "  word = reverse_word_index[word_num]\r\n",
        "  embeddings = weights[word_num]\r\n",
        "  out_m.write(word + \"\\n\")\r\n",
        "  out_v.write('\\t'.join([str(x) for x in embeddings]) + \"\\n\")\r\n",
        "out_v.close()\r\n",
        "out_m.close()"
      ],
      "execution_count": 116,
      "outputs": []
    },
    {
      "cell_type": "code",
      "metadata": {
        "colab": {
          "base_uri": "https://localhost:8080/",
          "height": 16
        },
        "id": "d0CU_gjQBYEo",
        "outputId": "8d31eda2-1cd7-4986-b452-15ae263044ab"
      },
      "source": [
        "try:\r\n",
        "  from google.colab import files\r\n",
        "except ImportError:\r\n",
        "  pass\r\n",
        "else:\r\n",
        "  files.download('vecs.tsv')\r\n",
        "  files.download('meta.tsv')"
      ],
      "execution_count": 117,
      "outputs": [
        {
          "output_type": "display_data",
          "data": {
            "application/javascript": [
              "\n",
              "    async function download(id, filename, size) {\n",
              "      if (!google.colab.kernel.accessAllowed) {\n",
              "        return;\n",
              "      }\n",
              "      const div = document.createElement('div');\n",
              "      const label = document.createElement('label');\n",
              "      label.textContent = `Downloading \"${filename}\": `;\n",
              "      div.appendChild(label);\n",
              "      const progress = document.createElement('progress');\n",
              "      progress.max = size;\n",
              "      div.appendChild(progress);\n",
              "      document.body.appendChild(div);\n",
              "\n",
              "      const buffers = [];\n",
              "      let downloaded = 0;\n",
              "\n",
              "      const channel = await google.colab.kernel.comms.open(id);\n",
              "      // Send a message to notify the kernel that we're ready.\n",
              "      channel.send({})\n",
              "\n",
              "      for await (const message of channel.messages) {\n",
              "        // Send a message to notify the kernel that we're ready.\n",
              "        channel.send({})\n",
              "        if (message.buffers) {\n",
              "          for (const buffer of message.buffers) {\n",
              "            buffers.push(buffer);\n",
              "            downloaded += buffer.byteLength;\n",
              "            progress.value = downloaded;\n",
              "          }\n",
              "        }\n",
              "      }\n",
              "      const blob = new Blob(buffers, {type: 'application/binary'});\n",
              "      const a = document.createElement('a');\n",
              "      a.href = window.URL.createObjectURL(blob);\n",
              "      a.download = filename;\n",
              "      div.appendChild(a);\n",
              "      a.click();\n",
              "      div.remove();\n",
              "    }\n",
              "  "
            ],
            "text/plain": [
              "<IPython.core.display.Javascript object>"
            ]
          },
          "metadata": {
            "tags": []
          }
        },
        {
          "output_type": "display_data",
          "data": {
            "application/javascript": [
              "download(\"download_54b1a096-a872-4e90-b77b-2d8dc17b9275\", \"vecs.tsv\", 182226)"
            ],
            "text/plain": [
              "<IPython.core.display.Javascript object>"
            ]
          },
          "metadata": {
            "tags": []
          }
        },
        {
          "output_type": "display_data",
          "data": {
            "application/javascript": [
              "\n",
              "    async function download(id, filename, size) {\n",
              "      if (!google.colab.kernel.accessAllowed) {\n",
              "        return;\n",
              "      }\n",
              "      const div = document.createElement('div');\n",
              "      const label = document.createElement('label');\n",
              "      label.textContent = `Downloading \"${filename}\": `;\n",
              "      div.appendChild(label);\n",
              "      const progress = document.createElement('progress');\n",
              "      progress.max = size;\n",
              "      div.appendChild(progress);\n",
              "      document.body.appendChild(div);\n",
              "\n",
              "      const buffers = [];\n",
              "      let downloaded = 0;\n",
              "\n",
              "      const channel = await google.colab.kernel.comms.open(id);\n",
              "      // Send a message to notify the kernel that we're ready.\n",
              "      channel.send({})\n",
              "\n",
              "      for await (const message of channel.messages) {\n",
              "        // Send a message to notify the kernel that we're ready.\n",
              "        channel.send({})\n",
              "        if (message.buffers) {\n",
              "          for (const buffer of message.buffers) {\n",
              "            buffers.push(buffer);\n",
              "            downloaded += buffer.byteLength;\n",
              "            progress.value = downloaded;\n",
              "          }\n",
              "        }\n",
              "      }\n",
              "      const blob = new Blob(buffers, {type: 'application/binary'});\n",
              "      const a = document.createElement('a');\n",
              "      a.href = window.URL.createObjectURL(blob);\n",
              "      a.download = filename;\n",
              "      div.appendChild(a);\n",
              "      a.click();\n",
              "      div.remove();\n",
              "    }\n",
              "  "
            ],
            "text/plain": [
              "<IPython.core.display.Javascript object>"
            ]
          },
          "metadata": {
            "tags": []
          }
        },
        {
          "output_type": "display_data",
          "data": {
            "application/javascript": [
              "download(\"download_ac60bbf0-b583-42e0-af5f-f294dec38ad5\", \"meta.tsv\", 6529)"
            ],
            "text/plain": [
              "<IPython.core.display.Javascript object>"
            ]
          },
          "metadata": {
            "tags": []
          }
        }
      ]
    },
    {
      "cell_type": "code",
      "metadata": {
        "id": "WtH0y5OEBaVo"
      },
      "source": [
        ""
      ],
      "execution_count": null,
      "outputs": []
    }
  ]
}