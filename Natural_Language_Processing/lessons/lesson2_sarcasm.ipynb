{
  "nbformat": 4,
  "nbformat_minor": 0,
  "metadata": {
    "colab": {
      "name": "lesson2_sarcasm.ipynb",
      "provenance": [],
      "authorship_tag": "ABX9TyPHj/8DjGkHaI/BNyu6gjXi",
      "include_colab_link": true
    },
    "kernelspec": {
      "name": "python3",
      "display_name": "Python 3"
    }
  },
  "cells": [
    {
      "cell_type": "markdown",
      "metadata": {
        "id": "view-in-github",
        "colab_type": "text"
      },
      "source": [
        "<a href=\"https://colab.research.google.com/github/siddharthchd/Tensorflow_Developer/blob/main/Natural_Language_Processing/lessons/lesson2_sarcasm.ipynb\" target=\"_parent\"><img src=\"https://colab.research.google.com/assets/colab-badge.svg\" alt=\"Open In Colab\"/></a>"
      ]
    },
    {
      "cell_type": "code",
      "metadata": {
        "id": "yOJHb7HkLwch"
      },
      "source": [
        "import json\r\n",
        "import tensorflow as tf\r\n",
        "from tensorflow.keras.preprocessing.text import Tokenizer\r\n",
        "from tensorflow.keras.preprocessing.sequence import pad_sequences"
      ],
      "execution_count": 2,
      "outputs": []
    },
    {
      "cell_type": "code",
      "metadata": {
        "id": "uQPB3LQaL9y8"
      },
      "source": [
        "vocab_size = 10000\r\n",
        "embedding_dim = 16\r\n",
        "max_length = 100\r\n",
        "trunc_type = 'post'\r\n",
        "padding_type = 'post'\r\n",
        "oov_tok = '<OOV>'\r\n",
        "training_size = 20000"
      ],
      "execution_count": 3,
      "outputs": []
    },
    {
      "cell_type": "code",
      "metadata": {
        "colab": {
          "base_uri": "https://localhost:8080/"
        },
        "id": "My0_OcPJMM6e",
        "outputId": "e72f6a66-ac13-4fda-9ad3-e3091cd543ce"
      },
      "source": [
        "!wget --no-check-certificate \\\r\n",
        "    https://storage.googleapis.com/laurencemoroney-blog.appspot.com/sarcasm.json \\\r\n",
        "    -O /tmp/sarcasm.json"
      ],
      "execution_count": 4,
      "outputs": [
        {
          "output_type": "stream",
          "text": [
            "--2021-01-13 14:40:36--  https://storage.googleapis.com/laurencemoroney-blog.appspot.com/sarcasm.json\n",
            "Resolving storage.googleapis.com (storage.googleapis.com)... 74.125.195.128, 74.125.142.128, 2607:f8b0:400e:c07::80, ...\n",
            "Connecting to storage.googleapis.com (storage.googleapis.com)|74.125.195.128|:443... connected.\n",
            "HTTP request sent, awaiting response... 200 OK\n",
            "Length: 5643545 (5.4M) [application/json]\n",
            "Saving to: ‘/tmp/sarcasm.json’\n",
            "\n",
            "\r/tmp/sarcasm.json     0%[                    ]       0  --.-KB/s               \r/tmp/sarcasm.json   100%[===================>]   5.38M  --.-KB/s    in 0.03s   \n",
            "\n",
            "2021-01-13 14:40:36 (197 MB/s) - ‘/tmp/sarcasm.json’ saved [5643545/5643545]\n",
            "\n"
          ],
          "name": "stdout"
        }
      ]
    },
    {
      "cell_type": "code",
      "metadata": {
        "id": "yPi4__70MO4u"
      },
      "source": [
        "with open('/tmp/sarcasm.json', 'r') as f:\r\n",
        "  datastore = json.load(f)\r\n",
        "\r\n",
        "sentences = []\r\n",
        "labels = []\r\n",
        "\r\n",
        "for item in datastore:\r\n",
        "  sentences.append(item['headline'])\r\n",
        "  labels.append(item['is_sarcastic'])"
      ],
      "execution_count": 6,
      "outputs": []
    },
    {
      "cell_type": "code",
      "metadata": {
        "id": "NlrwogG0Mf_F"
      },
      "source": [
        "training_sentences = sentences[0:training_size]\r\n",
        "testing_sentences = sentences[training_size:]\r\n",
        "training_labels = labels[0:training_size]\r\n",
        "testing_labels = labels[training_size:]"
      ],
      "execution_count": 8,
      "outputs": []
    },
    {
      "cell_type": "code",
      "metadata": {
        "id": "_g410tfQMwUg"
      },
      "source": [
        "tokenizer = Tokenizer(num_words = vocab_size, oov_token = oov_tok)\r\n",
        "tokenizer.fit_on_texts(training_sentences)\r\n",
        "\r\n",
        "word_index = tokenizer.word_index\r\n",
        "\r\n",
        "training_sequences = tokenizer.texts_to_sequences(training_sentences)\r\n",
        "training_padded = pad_sequences(training_sequences, maxlen = max_length, padding = padding_type, truncating = trunc_type)\r\n",
        "\r\n",
        "testing_sequences = tokenizer.texts_to_sequences(testing_sentences)\r\n",
        "testing_padded = pad_sequences(testing_sequences, maxlen = max_length, padding = padding_type, truncating = trunc_type)"
      ],
      "execution_count": 13,
      "outputs": []
    },
    {
      "cell_type": "code",
      "metadata": {
        "id": "ltVQqnZLNhMk"
      },
      "source": [
        "import numpy as np\r\n",
        "\r\n",
        "training_padded = np.array(training_padded)\r\n",
        "training_labels = np.array(training_labels)\r\n",
        "testing_padded = np.array(testing_padded)\r\n",
        "testing_labels = np.array(testing_labels)"
      ],
      "execution_count": 14,
      "outputs": []
    },
    {
      "cell_type": "code",
      "metadata": {
        "id": "Iid6Nm8mN5C-"
      },
      "source": [
        "model = tf.keras.Sequential([\r\n",
        "                             tf.keras.layers.Embedding(vocab_size, embedding_dim, input_length = max_length),\r\n",
        "                             tf.keras.layers.GlobalAveragePooling1D(),\r\n",
        "                             tf.keras.layers.Dense(24, activation = 'relu'),\r\n",
        "                             tf.keras.layers.Dense(1, activation = 'sigmoid')\r\n",
        "])\r\n",
        "\r\n",
        "model.compile(loss = 'binary_crossentropy', optimizer = 'adam', metrics = ['accuracy'])"
      ],
      "execution_count": 16,
      "outputs": []
    },
    {
      "cell_type": "code",
      "metadata": {
        "colab": {
          "base_uri": "https://localhost:8080/"
        },
        "id": "KJdg6h3fOVe_",
        "outputId": "abe0762e-777e-42ba-e048-1cf9213d5392"
      },
      "source": [
        "model.summary()"
      ],
      "execution_count": 17,
      "outputs": [
        {
          "output_type": "stream",
          "text": [
            "Model: \"sequential\"\n",
            "_________________________________________________________________\n",
            "Layer (type)                 Output Shape              Param #   \n",
            "=================================================================\n",
            "embedding (Embedding)        (None, 100, 16)           160000    \n",
            "_________________________________________________________________\n",
            "global_average_pooling1d (Gl (None, 16)                0         \n",
            "_________________________________________________________________\n",
            "dense (Dense)                (None, 24)                408       \n",
            "_________________________________________________________________\n",
            "dense_1 (Dense)              (None, 1)                 25        \n",
            "=================================================================\n",
            "Total params: 160,433\n",
            "Trainable params: 160,433\n",
            "Non-trainable params: 0\n",
            "_________________________________________________________________\n"
          ],
          "name": "stdout"
        }
      ]
    },
    {
      "cell_type": "code",
      "metadata": {
        "colab": {
          "base_uri": "https://localhost:8080/"
        },
        "id": "poQHfgT6OZDm",
        "outputId": "0eb2e73a-4edd-4ca3-ba42-38b6866e8ece"
      },
      "source": [
        "num_epochs = 30\r\n",
        "history = model.fit(training_padded, training_labels, epochs = num_epochs, validation_data = (testing_padded, testing_labels), verbose = 2)"
      ],
      "execution_count": 18,
      "outputs": [
        {
          "output_type": "stream",
          "text": [
            "Epoch 1/30\n",
            "625/625 - 3s - loss: 0.6758 - accuracy: 0.5641 - val_loss: 0.6175 - val_accuracy: 0.6473\n",
            "Epoch 2/30\n",
            "625/625 - 2s - loss: 0.4603 - accuracy: 0.8185 - val_loss: 0.3934 - val_accuracy: 0.8374\n",
            "Epoch 3/30\n",
            "625/625 - 2s - loss: 0.3228 - accuracy: 0.8720 - val_loss: 0.3539 - val_accuracy: 0.8526\n",
            "Epoch 4/30\n",
            "625/625 - 2s - loss: 0.2698 - accuracy: 0.8930 - val_loss: 0.3589 - val_accuracy: 0.8381\n",
            "Epoch 5/30\n",
            "625/625 - 2s - loss: 0.2340 - accuracy: 0.9093 - val_loss: 0.3397 - val_accuracy: 0.8584\n",
            "Epoch 6/30\n",
            "625/625 - 2s - loss: 0.2050 - accuracy: 0.9219 - val_loss: 0.3428 - val_accuracy: 0.8539\n",
            "Epoch 7/30\n",
            "625/625 - 2s - loss: 0.1828 - accuracy: 0.9313 - val_loss: 0.3509 - val_accuracy: 0.8548\n",
            "Epoch 8/30\n",
            "625/625 - 2s - loss: 0.1644 - accuracy: 0.9386 - val_loss: 0.3655 - val_accuracy: 0.8530\n",
            "Epoch 9/30\n",
            "625/625 - 2s - loss: 0.1481 - accuracy: 0.9470 - val_loss: 0.3782 - val_accuracy: 0.8550\n",
            "Epoch 10/30\n",
            "625/625 - 2s - loss: 0.1339 - accuracy: 0.9520 - val_loss: 0.3963 - val_accuracy: 0.8527\n",
            "Epoch 11/30\n",
            "625/625 - 2s - loss: 0.1220 - accuracy: 0.9572 - val_loss: 0.4191 - val_accuracy: 0.8484\n",
            "Epoch 12/30\n",
            "625/625 - 2s - loss: 0.1113 - accuracy: 0.9610 - val_loss: 0.4377 - val_accuracy: 0.8478\n",
            "Epoch 13/30\n",
            "625/625 - 2s - loss: 0.1019 - accuracy: 0.9660 - val_loss: 0.4598 - val_accuracy: 0.8448\n",
            "Epoch 14/30\n",
            "625/625 - 2s - loss: 0.0955 - accuracy: 0.9675 - val_loss: 0.4820 - val_accuracy: 0.8436\n",
            "Epoch 15/30\n",
            "625/625 - 2s - loss: 0.0886 - accuracy: 0.9695 - val_loss: 0.5063 - val_accuracy: 0.8405\n",
            "Epoch 16/30\n",
            "625/625 - 2s - loss: 0.0809 - accuracy: 0.9735 - val_loss: 0.5292 - val_accuracy: 0.8401\n",
            "Epoch 17/30\n",
            "625/625 - 2s - loss: 0.0741 - accuracy: 0.9758 - val_loss: 0.5558 - val_accuracy: 0.8389\n",
            "Epoch 18/30\n",
            "625/625 - 2s - loss: 0.0676 - accuracy: 0.9787 - val_loss: 0.5855 - val_accuracy: 0.8353\n",
            "Epoch 19/30\n",
            "625/625 - 2s - loss: 0.0622 - accuracy: 0.9811 - val_loss: 0.6198 - val_accuracy: 0.8326\n",
            "Epoch 20/30\n",
            "625/625 - 2s - loss: 0.0585 - accuracy: 0.9818 - val_loss: 0.6480 - val_accuracy: 0.8320\n",
            "Epoch 21/30\n",
            "625/625 - 2s - loss: 0.0538 - accuracy: 0.9831 - val_loss: 0.6683 - val_accuracy: 0.8301\n",
            "Epoch 22/30\n",
            "625/625 - 2s - loss: 0.0499 - accuracy: 0.9857 - val_loss: 0.6970 - val_accuracy: 0.8283\n",
            "Epoch 23/30\n",
            "625/625 - 2s - loss: 0.0466 - accuracy: 0.9859 - val_loss: 0.7309 - val_accuracy: 0.8246\n",
            "Epoch 24/30\n",
            "625/625 - 2s - loss: 0.0432 - accuracy: 0.9868 - val_loss: 0.7616 - val_accuracy: 0.8208\n",
            "Epoch 25/30\n",
            "625/625 - 2s - loss: 0.0392 - accuracy: 0.9888 - val_loss: 0.7874 - val_accuracy: 0.8232\n",
            "Epoch 26/30\n",
            "625/625 - 2s - loss: 0.0363 - accuracy: 0.9901 - val_loss: 0.8221 - val_accuracy: 0.8189\n",
            "Epoch 27/30\n",
            "625/625 - 2s - loss: 0.0364 - accuracy: 0.9892 - val_loss: 0.8593 - val_accuracy: 0.8190\n",
            "Epoch 28/30\n",
            "625/625 - 2s - loss: 0.0317 - accuracy: 0.9916 - val_loss: 0.9121 - val_accuracy: 0.8146\n",
            "Epoch 29/30\n",
            "625/625 - 3s - loss: 0.0298 - accuracy: 0.9921 - val_loss: 0.9281 - val_accuracy: 0.8170\n",
            "Epoch 30/30\n",
            "625/625 - 3s - loss: 0.0271 - accuracy: 0.9927 - val_loss: 0.9691 - val_accuracy: 0.8152\n"
          ],
          "name": "stdout"
        }
      ]
    },
    {
      "cell_type": "code",
      "metadata": {
        "colab": {
          "base_uri": "https://localhost:8080/",
          "height": 542
        },
        "id": "3TBJ1RTqOohg",
        "outputId": "ea5eaa7d-7ca1-40a1-933c-717f86b9bce5"
      },
      "source": [
        "import matplotlib.pyplot as plt\r\n",
        "\r\n",
        "def plot_graphs(history, string):\r\n",
        "\r\n",
        "  plt.plot(history.history[string])\r\n",
        "  plt.plot(history.history['val_' + string])\r\n",
        "  plt.xlabel('Epochs')\r\n",
        "  plt.ylabel(string)\r\n",
        "  plt.legend([string, 'val_' + string])\r\n",
        "  plt.show()\r\n",
        "\r\n",
        "plot_graphs(history, 'accuracy')\r\n",
        "plot_graphs(history, 'loss')"
      ],
      "execution_count": 19,
      "outputs": [
        {
          "output_type": "display_data",
          "data": {
            "image/png": "[encoded data removed]",
            "text/plain": [
              "<Figure size 432x288 with 1 Axes>"
            ]
          },
          "metadata": {
            "tags": [],
            "needs_background": "light"
          }
        },
        {
          "output_type": "display_data",
          "data": {
            "image/png": "[encoded data removed]",
            "text/plain": [
              "<Figure size 432x288 with 1 Axes>"
            ]
          },
          "metadata": {
            "tags": [],
            "needs_background": "light"
          }
        }
      ]
    },
    {
      "cell_type": "code",
      "metadata": {
        "colab": {
          "base_uri": "https://localhost:8080/"
        },
        "id": "Uv_I5YyCPMoW",
        "outputId": "16665a17-a218-42cf-dcd9-4091f39af94d"
      },
      "source": [
        "reverse_word_index = dict([(value, key) for (key, value) in word_index.items()])\r\n",
        "\r\n",
        "def decode_sentence(text):\r\n",
        "  return \" \".join([reverse_word_index.get(i, '?') for i in text])\r\n",
        "\r\n",
        "print(decode_sentence(training_padded[0]))\r\n",
        "print(training_sentences[2])\r\n",
        "print(labels[2])"
      ],
      "execution_count": 21,
      "outputs": [
        {
          "output_type": "stream",
          "text": [
            "former <OOV> store clerk sues over secret 'black <OOV> for minority shoppers ? ? ? ? ? ? ? ? ? ? ? ? ? ? ? ? ? ? ? ? ? ? ? ? ? ? ? ? ? ? ? ? ? ? ? ? ? ? ? ? ? ? ? ? ? ? ? ? ? ? ? ? ? ? ? ? ? ? ? ? ? ? ? ? ? ? ? ? ? ? ? ? ? ? ? ? ? ? ? ? ? ? ? ? ? ? ? ?\n",
            "mom starting to fear son's web series closest thing she will have to grandchild\n",
            "1\n"
          ],
          "name": "stdout"
        }
      ]
    },
    {
      "cell_type": "code",
      "metadata": {
        "colab": {
          "base_uri": "https://localhost:8080/"
        },
        "id": "5Krmmvs1PsgP",
        "outputId": "5115558e-f634-4400-bbf2-78347e46bdd0"
      },
      "source": [
        "e = model.layers[0]\r\n",
        "weights = e.get_weights()[0]\r\n",
        "print(weights.shape)  # (vocab_size, embedding_dim)"
      ],
      "execution_count": 22,
      "outputs": [
        {
          "output_type": "stream",
          "text": [
            "(10000, 16)\n"
          ],
          "name": "stdout"
        }
      ]
    },
    {
      "cell_type": "code",
      "metadata": {
        "id": "hNJPhumTP8g9"
      },
      "source": [
        "import io\r\n",
        "\r\n",
        "out_v = io.open('vecs2.tsv', 'w', encoding = 'utf-8')\r\n",
        "out_m = io.open('meta2.tsv', 'w', encoding = 'utf-8')\r\n",
        "\r\n",
        "for word_num in range(1, vocab_size):\r\n",
        "\r\n",
        "  word = reverse_word_index[word_num]\r\n",
        "  embeddings = weights[word_num]\r\n",
        "  out_m.write(word + '\\n')\r\n",
        "  out_v.write('\\t'.join([str(x) for x in embeddings]) + '\\n')\r\n",
        "\r\n",
        "out_v.close()\r\n",
        "out_m.close()"
      ],
      "execution_count": 24,
      "outputs": []
    },
    {
      "cell_type": "code",
      "metadata": {
        "colab": {
          "base_uri": "https://localhost:8080/",
          "height": 16
        },
        "id": "uwZVurlqQpbU",
        "outputId": "c7ec7a35-7751-4e62-c278-a956a66e9f17"
      },
      "source": [
        "try:\r\n",
        "  from google.colab import files\r\n",
        "except ImportError:\r\n",
        "  pass\r\n",
        "else:\r\n",
        "  files.download('vecs2.tsv')\r\n",
        "  files.download('meta2.tsv')"
      ],
      "execution_count": 25,
      "outputs": [
        {
          "output_type": "display_data",
          "data": {
            "application/javascript": [
              "\n",
              "    async function download(id, filename, size) {\n",
              "      if (!google.colab.kernel.accessAllowed) {\n",
              "        return;\n",
              "      }\n",
              "      const div = document.createElement('div');\n",
              "      const label = document.createElement('label');\n",
              "      label.textContent = `Downloading \"${filename}\": `;\n",
              "      div.appendChild(label);\n",
              "      const progress = document.createElement('progress');\n",
              "      progress.max = size;\n",
              "      div.appendChild(progress);\n",
              "      document.body.appendChild(div);\n",
              "\n",
              "      const buffers = [];\n",
              "      let downloaded = 0;\n",
              "\n",
              "      const channel = await google.colab.kernel.comms.open(id);\n",
              "      // Send a message to notify the kernel that we're ready.\n",
              "      channel.send({})\n",
              "\n",
              "      for await (const message of channel.messages) {\n",
              "        // Send a message to notify the kernel that we're ready.\n",
              "        channel.send({})\n",
              "        if (message.buffers) {\n",
              "          for (const buffer of message.buffers) {\n",
              "            buffers.push(buffer);\n",
              "            downloaded += buffer.byteLength;\n",
              "            progress.value = downloaded;\n",
              "          }\n",
              "        }\n",
              "      }\n",
              "      const blob = new Blob(buffers, {type: 'application/binary'});\n",
              "      const a = document.createElement('a');\n",
              "      a.href = window.URL.createObjectURL(blob);\n",
              "      a.download = filename;\n",
              "      div.appendChild(a);\n",
              "      a.click();\n",
              "      div.remove();\n",
              "    }\n",
              "  "
            ],
            "text/plain": [
              "<IPython.core.display.Javascript object>"
            ]
          },
          "metadata": {
            "tags": []
          }
        },
        {
          "output_type": "display_data",
          "data": {
            "application/javascript": [
              "download(\"download_31661143-33e2-4e76-86eb-5601df5659c3\", \"vecs2.tsv\", 1809798)"
            ],
            "text/plain": [
              "<IPython.core.display.Javascript object>"
            ]
          },
          "metadata": {
            "tags": []
          }
        },
        {
          "output_type": "display_data",
          "data": {
            "application/javascript": [
              "\n",
              "    async function download(id, filename, size) {\n",
              "      if (!google.colab.kernel.accessAllowed) {\n",
              "        return;\n",
              "      }\n",
              "      const div = document.createElement('div');\n",
              "      const label = document.createElement('label');\n",
              "      label.textContent = `Downloading \"${filename}\": `;\n",
              "      div.appendChild(label);\n",
              "      const progress = document.createElement('progress');\n",
              "      progress.max = size;\n",
              "      div.appendChild(progress);\n",
              "      document.body.appendChild(div);\n",
              "\n",
              "      const buffers = [];\n",
              "      let downloaded = 0;\n",
              "\n",
              "      const channel = await google.colab.kernel.comms.open(id);\n",
              "      // Send a message to notify the kernel that we're ready.\n",
              "      channel.send({})\n",
              "\n",
              "      for await (const message of channel.messages) {\n",
              "        // Send a message to notify the kernel that we're ready.\n",
              "        channel.send({})\n",
              "        if (message.buffers) {\n",
              "          for (const buffer of message.buffers) {\n",
              "            buffers.push(buffer);\n",
              "            downloaded += buffer.byteLength;\n",
              "            progress.value = downloaded;\n",
              "          }\n",
              "        }\n",
              "      }\n",
              "      const blob = new Blob(buffers, {type: 'application/binary'});\n",
              "      const a = document.createElement('a');\n",
              "      a.href = window.URL.createObjectURL(blob);\n",
              "      a.download = filename;\n",
              "      div.appendChild(a);\n",
              "      a.click();\n",
              "      div.remove();\n",
              "    }\n",
              "  "
            ],
            "text/plain": [
              "<IPython.core.display.Javascript object>"
            ]
          },
          "metadata": {
            "tags": []
          }
        },
        {
          "output_type": "display_data",
          "data": {
            "application/javascript": [
              "download(\"download_e78f5cea-875e-4f7c-8a2e-0f0a777ddda3\", \"meta2.tsv\", 75974)"
            ],
            "text/plain": [
              "<IPython.core.display.Javascript object>"
            ]
          },
          "metadata": {
            "tags": []
          }
        }
      ]
    },
    {
      "cell_type": "code",
      "metadata": {
        "colab": {
          "base_uri": "https://localhost:8080/"
        },
        "id": "hP9IwXuWQuJm",
        "outputId": "dfb87712-a5a1-4ad5-b01a-ecda611d7cd2"
      },
      "source": [
        "sentence = [\"granny starting to fear spiders in the garden might be real\", \"game of thrones season finale showing this sunday night\"]\r\n",
        "sequences = tokenizer.texts_to_sequences(sentence)\r\n",
        "padded = pad_sequences(sequences, maxlen=max_length, padding=padding_type, truncating=trunc_type)\r\n",
        "print(model.predict(padded))"
      ],
      "execution_count": 26,
      "outputs": [
        {
          "output_type": "stream",
          "text": [
            "[[9.801126e-01]\n",
            " [3.695488e-04]]\n"
          ],
          "name": "stdout"
        }
      ]
    },
    {
      "cell_type": "code",
      "metadata": {
        "id": "ZmmUzXUAQyOG"
      },
      "source": [
        ""
      ],
      "execution_count": null,
      "outputs": []
    }
  ]
}